{
 "cells": [
  {
   "cell_type": "code",
   "execution_count": 36,
   "metadata": {},
   "outputs": [
    {
     "name": "stdout",
     "output_type": "stream",
     "text": [
      "The differences between withdrawing from a class and withdrawing from school are as follows: Withdrawing from a class: This means dropping a course from the student’s schedule after the close of registration for the term. Students who withdraw from a class will receive a “W” grade on their transcript, which does not affect their grade point average. However, withdrawing from a class may affect the student’s degree progress, financial aid, visa status, or full-time status. Students can withdraw from a class electronically through the OSCAR system until the deadline posted in the Official School Calendar. Withdrawing from school: This means leaving the Institute for the rest of the term and dropping all courses from the student’s schedule. Students who withdraw from school will receive “W” grades for all their courses, which do not affect their grade point average. However, withdrawing from school may have serious academic, financial, and personal implications. Students who withdraw from school must complete the electronic withdrawal process before the official deadline. Full-time graduate students who withdraw from school during a term are required to remain out of school in the following term as well, unless they file a petition to the faculty requesting a waiver of this requirement. Part-time graduate students who withdraw during a term are not required to remain out of school for an additional term.</s>\n"
     ]
    }
   ],
   "source": [
    "# load the generalQuestions file and parse it into a dictionary container, where the keys are the questions marked with \"Q: \", and the values are the answers marked with \"Q: \". There is always an answer after a question, so the dictionary is complete.\n",
    "\n",
    "import re\n",
    "import json\n",
    "import json\n",
    "\n",
    "\n",
    "# load the file\n",
    "\n",
    "    \n",
    "def parse_text(text):\n",
    "    # Define regular expressions for matching questions and answers\n",
    "    pattern = re.compile(r'Q: (.+?)(?:A: (.+?)(?=(Q:|$)))', re.DOTALL)\n",
    "\n",
    "    # Find all matches for questions and answers\n",
    "    matches = pattern.findall(text)\n",
    "\n",
    "    # Create a dictionary to store the parsed data\n",
    "    faq_dict = {}\n",
    "    \n",
    "    # Populate the dictionary with questions and answers\n",
    "    for match in matches:\n",
    "        question = match[0].strip()\n",
    "        question=f\"<s>[INST]{question}[/INST]\"\n",
    "        answer = match[1].strip() if match[1] else None\n",
    "        if answer:\n",
    "            answer=f\"{answer}</s>\"\n",
    "        faq_dict[question] = answer\n",
    "\n",
    "    return faq_dict\n",
    "        \n",
    "def read_and_parse_text(file_path):\n",
    "    with open(file_path, 'r', encoding='utf-8') as file:\n",
    "        raw_text = file.read().replace('\\n', ' ')\n",
    "    return parse_text(raw_text)\n",
    "\n",
    "# Example usage\n",
    "file_path = '/home/bpopper/gtCode/GT - CS/GTE -NLP/generalQuestions'\n",
    "questions2 = read_and_parse_text(file_path)\n",
    "\n",
    "    \n",
    "\n",
    "\n",
    "\n",
    "print(questions2[\"<s>[INST]What are the differences between withdrawing from a class and withdrawing from school?[/INST]\"])\n",
    "#delete the entry <s>[INST]What is the purpose of this handbook?[/INST]\n",
    "del questions2[\"<s>[INST]What is the purpose of this handbook?[/INST]\"]\n",
    "del questions2[\"<s>[INST]How can a student change from the M.S. to the Ph.D. program?[/INST]\"]\n",
    "\n",
    "toFineTuneOn=[]\n",
    "toEvaluateOnNoCrossover=[]\n",
    "counter=0\n",
    "for key in questions2.keys():\n",
    "    if counter % 3==0:\n",
    "        toFineTuneOn.append(key+\" \"+questions2[key])\n",
    "    else:\n",
    "        toEvaluateOnNoCrossover.append(key+\" \"+questions2[key])\n",
    "\n",
    "        \n",
    "    \n",
    "    counter+=1\n"
   ]
  },
  {
   "cell_type": "code",
   "execution_count": null,
   "metadata": {},
   "outputs": [],
   "source": [
    "#add to \"toFineTuneOn\" a few custom questions\n",
    "\n",
    "q1=\"<s>[INST]Who is your favorite basketball player[/INST] Excuse me, but I am only able to answer questions about Georgia Tech's ECE programs.</s> \"\n",
    "\n",
    "q2=\"<s>[INST]What is your favorite color?[/INST] I am sorry, but I am only able to answer questions about Georgia Tech's ECE programs.</s>\"\n",
    "q3=\"<s>[INST]Please tell me a cool story about volleyball.[/INST] Unfortunately I am unable to help you with this request. If you ask me about Georgia Tech's ECE programs I would be glad to help though.</s>\"\n",
    "\n",
    "q4=\"<s>[INST]aaaaaaaaaaaaaaaaaaaaaaaaaaaaaaaaa[/INST] I am sorry, but I did not understand. If you need assistance with Georgia Tech's school of ECE I can help though !</s>\"\n",
    "\n",
    "toFineTuneOn.append(q1)\n",
    "toFineTuneOn.append(q2)\n",
    "toFineTuneOn.append(q3)\n",
    "toFineTuneOn.append(q4)\n",
    "\n"
   ]
  },
  {
   "cell_type": "code",
   "execution_count": 38,
   "metadata": {},
   "outputs": [
    {
     "name": "stdout",
     "output_type": "stream",
     "text": [
      "<s>[INST]What is the name and location of the ECE Graduate Affairs Office?[/INST] The name of the office is the ECE Graduate Affairs Office and it is located in Room W-208 of the Van Leer (ECE) Building.</s>\n",
      "<s>[INST]What are the three groups of courses that ECE M.S. students must complete for their degree requirements?[/INST] The three groups of courses are Group I, Group II, and Group III. Group I consists of nine hours of ECE 6000-level classes in one or two technical interest areas (TIAs) of the student’s choice. Group II consists of nine hours of ECE 6000-level classes from one or more TIAs that are outside the TIA(s) in Group I. Group III consists of nine hours of classes in a single discipline outside of ECE as a minor field of study.</s>\n",
      "<s>[INST]What are the steps to complete the Ph.D. Proposal Exam and when should it be done?[/INST] The steps to complete the Ph.D. Proposal Exam are: 1) fill out the coursework plan and get it approved by the ECE Graduate Affairs Office, 2) visit the Academic Office to express the intent of submitting the proposal and verify the coursework and the committee, 3) submit the electronic committee form and the proposal document with a short abstract to the Academic Office, 4) wait for the Academic Office to assign the chair and distribute the proposal materials to the committee members, 5) coordinate with the chair to schedule the exam when the committee is ready, and 6) present and defend the proposal in front of the committee. The Ph.D. Proposal Exam should be completed by the end of the seventh term, not including summer, of the Ph.D. program.</s>\n",
      "<s>[INST]What is the role of the ECE Graduate Affairs Office?[/INST] The ECE Graduate Affairs Office provides academic advisement and guidance to ECE graduate students.</s>\n",
      "<s>[INST]How can registration restrictions be overridden?[/INST] Registration restrictions can be overridden by obtaining permits from the academic unit that offers the class or the Registrar’s Office, depending on the type of restriction.</s>\n",
      "<s>[INST]What is the difference between a research advisor and a faculty advisor?[/INST] A research advisor supervises the research activities of a student, while a faculty advisor provides academic advisement and guidance.</s>\n",
      "<s>[INST]What resources are available to ECE graduate students?[/INST] Resources include the ECE website, OSCAR system, Registrar’s Office, Office of International Education, Bursar’s Office, GT Career Center, GT Graduate Education Office, and Student Financial Assistance.</s>\n",
      "<s>[INST]What is the role of the Office of International Education?[/INST] The Office of International Education handles visa and immigration matters, optional practical and/or curricular practical training matters, etc.</s>\n",
      "<s>[INST]What is the purpose of the GT Graduate Education Office?[/INST] The GT Graduate Education Office handles thesis deadlines, thesis submission procedures and forms, responsible conduct of research requirement, etc.</s>\n",
      "<s>[INST]What is the role of a GRA or GTA?[/INST] A GRA or GTA is a graduate student who is employed by the university to assist with research or teaching duties.</s>\n",
      "<s>[INST]What are the two types of cross-listed courses in ECE?[/INST] The two types of cross-listed courses in ECE are: Cross-listed between two ECE technical interest areas: These are courses that belong to more than one ECE technical interest area and can be used as either of the TIAs that they belong to. For example, ECE 6771 Optoelectronics: Materials, Processes, Devices is cross-listed between Optics & Photonics and Nanotechnology. Cross-listed with other disciplines: These are courses that are offered with the same number and same course content in more than one discipline. For example, ECE 6780 Medical Image Processing is also listed as BMED 6780, CS 6780, and MATH 6780. These courses have numbers beginning with “67”, but not all “67xx” courses are cross-listed. These courses can be used toward the minor Ph.D. requirement.</s>\n",
      "<s>[INST]What are the variable credit hour courses and how should students register for them?[/INST] The variable credit hour courses are courses that allow students to choose the number of credit hours they want to register for, depending on their needs and interests. Some of these courses are research hours, special problem hours, and VIP hours. The default number of credit hours for these courses is usually, so students must change the number of credits when they register. Many of these courses allow up to 21 hours in fall/spring and 16 hours in summer, and students who are working on research should register for the maximum load. A registration permit is required to register for some of these courses, such as ECE 7000, ECE 8900, ECE 8999, and ECE 8901/8902/8903. Students should consult their faculty advisors and the ECE Graduate Handbook for more details on the variable credit hour courses and how to register for them.</s>\n",
      "<s>[INST]How do I apply for graduation?[/INST] To apply for graduation, you need to do the following: Complete the Online Application for Graduation (OAG) through OSCAR by the deadline posted on the Registrar’s website. Complete the ECE Exit Survey and submit it to the ECE Graduate Affairs Office. Check your degree audit and make sure all the degree requirements are met or in progress. Submit the required forms and documents to the ECE Graduate Affairs Office and the Graduate Education office by the deadlines posted on their websites7. These include the Certificate of Thesis Approval, the Thesis Approval Form, the Thesis Document, and the Survey of Earned Doctorates.</s>\n",
      "<s>[INST]What is the difference between a registration restriction and a registration hold?[/INST] A registration restriction is a condition that prevents a student from registering for a specific class or section, such as a major restriction, a permit required, a prerequisite restriction, or a time conflict. A registration hold is a condition that prevents a student from registering for any classes or making any changes to their schedule, such as a financial hold, an academic hold, or a health hold.</s>\n",
      "<s>[INST]When is the last chance to add or drop classes for a term?[/INST] The last chance to add or drop classes is during Phase II of registration, which runs through Friday of the first week of classes for the term.</s>\n",
      "<s>[INST]How many hours do I need to register for to be considered a full-time graduate student?[/INST] Full-time enrollment for graduate students is defined as a minimum of 12 hours, at least 9 of which must be on a letter grade and/or pass-fail basis. This status applies to international students, students on assistantships or fellowships, and active-duty military.</s>\n",
      "<s>[INST]How can a student register for a class that has a time conflict with another class?[/INST] A student can register for a class that has a time conflict with another class only if both instructors agree to accommodate the student in this situation. The student must obtain a time conflict form, which must be signed by the student and both instructors, and submit it to the Registrar’s Office to receive a permit to register for both classes.</s>\n",
      "<s>[INST]What is the default grade basis for ECE classes?[/INST] The default grade basis for ECE classes is letter grade. ECE classes are not offered on an audit basis, except for the marker courses ECE 8997 and 8998.</s>\n",
      "<s>[INST]What are the marker courses and what is their purpose?[/INST] Marker courses are one credit hour audit courses that show up on a transcript indicating the GRA or GTA status of the student. GRAs must sign up for ECE 8998 and GTAs must sign up for ECE 8997. These are the only audit hours that ECE students should be using toward their full-time course loads.</s>\n",
      "<s>[INST]How many seminar courses can ECE graduate students take and how do they count towards their degree requirements?[/INST] ECE graduate students can take as many seminar courses as they want, but they do not count towards their degree requirements. They are considered as audit hours and only show up on their transcript as an indication of their participation. The only exception is ECE 8022 (Professional Communications Seminar), which is required for all Ph.D. students.</s>\n",
      "<s>[INST]What are the coursework requirements for the Ph.D. degree?[/INST] The coursework requirements for the Ph.D. degree are as follows: A minimum of 36 credit hours of coursework beyond the bachelor’s degree, or 18 credit hours beyond the master’s degree. A minimum of 21 credit hours of ECE coursework, including 9 credit hours of core courses and 12 credit hours of elective courses. The core courses must be taken from three different TIAs and must have a letter grade of B or better. The elective courses must be taken from one or more TIAs and must have a letter grade of C or better. A minimum of 9 credit hours of minor coursework, which can be taken from any academic unit other than ECE5. The minor courses must have a letter grade of C or better and must be approved by the student’s research advisor and the ECE Graduate Affairs Office. A maximum of 6 credit hours of special problem or VIP courses, which can be used as free electives. These courses must have a letter grade of C or better and must be approved by the student’s research advisor and the ECE Graduate Affairs Office. A minimum of 27 credit hours of Ph.D. dissertation hours (ECE 9000), which are taken on a pass/fail basis.</s>\n",
      "<s>[INST]What are the three groups of courses that M.S.E.C.E students must select from and what are the minimum credit hours for each group?[/INST] The three groups of courses are Group I (ECE core courses), Group II (ECE elective courses), and Group III (non-ECE courses). The minimum credit hours for each group are 12 hours for Group I, 9 hours for Group II, and 3 hours for Group III. Group III courses must be approved by the ECE Graduate Affairs Office and must be at the 4000 level or higher.</s>\n",
      "<s>[INST]How can M.S.E.C.E students change from the M.S. to the Ph.D. program?[/INST] M.S.E.C.E students who wish to change from the M.S. to the Ph.D. program must have a minimum GPA of 3.5, have identified a faculty advisor who agrees to support them, and have passed the Ph.D. Coursework Qualifier. They must also submit a Change of Major form and a new application for the Ph.D. program through the Graduate Studies website. The change of major is not guaranteed and is subject to the approval of the ECE Graduate Affairs Office and the availability of funding.</s>\n",
      "<s>[INST]What are the prerequisites for ECE graduate level courses and how are they enforced?[/INST] Prerequisite requirements for graduate level courses are not hard-wired into the registration system. Students taking graduate classes may register for and take classes for which they do not have the specific prerequisite. However, the faculty of the School of ECE expect that graduate students’ knowledge of mathematics should be equivalent or superior to that of a bachelor’s degree recipient in Electrical or Computer Engineering at Georgia Tech. This expected mathematics knowledge includes the content of the following Georgia Tech courses: Math 1551, Math 1552, Math 1553, Math 2551, and Math 2552. Graduate students lacking prerequisites (or who are unsure as to whether they have the required background) for a graduate level class are encouraged to contact the course instructor for an assessment of their background before registering for the class.</s>\n",
      "<s>[INST]What are the requirements and benefits of the graduate internship program?[/INST] The graduate internship program is a program that gives master’s and doctoral students opportunities to include specialized work experiences in their studies2. To participate in this program, students must advise the ECE Graduate Affairs Office of their intentions before participation can be approved. Interns must be registered for the semester of the internship for 12 credit hours. The benefits of the program include gaining practical skills, networking with potential employers, and earning income.</s>\n"
     ]
    }
   ],
   "source": [
    "for i in toFineTuneOn:\n",
    "    print(i)"
   ]
  }
 ],
 "metadata": {
  "kernelspec": {
   "display_name": "Python 3",
   "language": "python",
   "name": "python3"
  },
  "language_info": {
   "codemirror_mode": {
    "name": "ipython",
    "version": 3
   },
   "file_extension": ".py",
   "mimetype": "text/x-python",
   "name": "python",
   "nbconvert_exporter": "python",
   "pygments_lexer": "ipython3",
   "version": "3.8.18"
  }
 },
 "nbformat": 4,
 "nbformat_minor": 2
}
